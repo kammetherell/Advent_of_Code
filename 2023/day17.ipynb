{
 "cells": [
  {
   "cell_type": "code",
   "execution_count": 1,
   "metadata": {},
   "outputs": [],
   "source": [
    "import aoc_helpers\n",
    "day17 = aoc_helpers.AOC(2023, 17)\n",
    "actual = day17.get_inputs().splitlines()"
   ]
  },
  {
   "cell_type": "code",
   "execution_count": 2,
   "metadata": {},
   "outputs": [],
   "source": [
    "example = '2413432311323\\n3215453535623\\n3255245654254\\n3446585845452\\n4546657867536\\n1438598798454\\n4457876987766\\n3637877979653\\n4654967986887\\n4564679986453\\n1224686865563\\n2546548887735\\n4322674655533'\n",
    "example = example.splitlines()"
   ]
  },
  {
   "cell_type": "code",
   "execution_count": 3,
   "metadata": {},
   "outputs": [],
   "source": [
    "spin = {\n",
    "    'cw':{\n",
    "        ( 0, 1): ( 1, 0), # right   -> down\n",
    "        ( 0,-1): (-1, 0), # left    -> up\n",
    "        (-1, 0): ( 0, 1), # up      -> right\n",
    "        ( 1, 0): ( 0,-1), # down    -> left\n",
    "    },\n",
    "    'ccw':{\n",
    "        ( 0, 1): (-1, 0), # right   -> up\n",
    "        ( 0,-1): ( 1, 0), # left    -> down\n",
    "        (-1, 0): ( 0,-1), # up      -> left\n",
    "        ( 1, 0): ( 0, 1), # down    -> right\n",
    "    }\n",
    "}"
   ]
  },
  {
   "cell_type": "code",
   "execution_count": 10,
   "metadata": {},
   "outputs": [],
   "source": [
    "class State:\n",
    "    def __init__(self, loss, pos, dir, curr_len):\n",
    "        self.loss = loss\n",
    "        self.pos = pos\n",
    "        self.dir = dir\n",
    "        self.curr_len = curr_len\n",
    "\n",
    "        self.uniqe_key = (self.pos, self.dir, self.curr_len)\n",
    "    def __lt__(self, other):\n",
    "        # returns true is current state is better for a given point than another\n",
    "        # I.e. the loss is lower, or if loss the same, the curr length is less\n",
    "        return (self.loss, self.curr_len) < (other.loss, other.curr_len)"
   ]
  },
  {
   "cell_type": "code",
   "execution_count": 26,
   "metadata": {},
   "outputs": [],
   "source": [
    "import heapq\n",
    "#Heapq is a package to enable easy identification of minimum value in a list (see __lt__ function in State)\n",
    "\n",
    "def solve(inp, part2 = False):\n",
    "    grid, end = aoc_helpers.helper.coords_dict(inp)\n",
    "    start = (0,0)\n",
    "    max_dist = 3\n",
    "    min_dist = 0\n",
    "    if part2:\n",
    "        max_dist = 10\n",
    "        min_dist = 4\n",
    "    \n",
    "\n",
    "    seen_coords = set()\n",
    "    queue = [\n",
    "        State(0, start, (0,1),0), # Start at 0,0 and move right\n",
    "        State(0, start, (1,0),0), # Start at 0,0 and move down\n",
    "    ]\n",
    "\n",
    "    #Keep looping until our queue is empty\n",
    "    while queue:\n",
    "        #Get minimum value from queue\n",
    "        curr_state = heapq.heappop(queue)\n",
    "        #Check if we've seen this state before\n",
    "        if curr_state.uniqe_key in seen_coords:\n",
    "            #Break out of loop if we have\n",
    "            continue\n",
    "        \n",
    "        # If we get here, we've not seen it before, so add to our seen list\n",
    "        seen_coords.add(curr_state.uniqe_key)\n",
    "\n",
    "        #Check if we're at last point\n",
    "        if (curr_state.pos == end) and (not part2 or curr_state.curr_len > min_dist):\n",
    "            #If we are return out of the function and give us the loss to date\n",
    "            return curr_state.loss\n",
    "        \n",
    "        #check if path is valid\n",
    "        if curr_state.pos not in grid:\n",
    "            #if not, then exit loop doing nothing\n",
    "            continue\n",
    "        \n",
    "        #Straight\n",
    "        if curr_state.curr_len < max_dist:\n",
    "            nxt = (\n",
    "                curr_state.pos[0] + curr_state.dir[0],\n",
    "                curr_state.pos[1] + curr_state.dir[1]\n",
    "            )\n",
    "\n",
    "            if nxt in grid:\n",
    "                nxt_loss = curr_state.loss + int(grid[nxt])\n",
    "                heapq.heappush(\n",
    "                    queue, \n",
    "                    State(\n",
    "                        nxt_loss, \n",
    "                        nxt, \n",
    "                        curr_state.dir, \n",
    "                        curr_state.curr_len +1)\n",
    "                )\n",
    "\n",
    "        #Spin right\n",
    "        dir_cw = spin['cw'][curr_state.dir]\n",
    "        nxt_cw = (\n",
    "            curr_state.pos[0] + dir_cw[0],\n",
    "            curr_state.pos[1] + dir_cw[1]\n",
    "        ) \n",
    "        if (nxt_cw in grid) and (not part2 or curr_state.curr_len >= min_dist):\n",
    "            nxt_cw_loss = curr_state.loss + int(grid[nxt_cw])\n",
    "            heapq.heappush(\n",
    "                queue, \n",
    "                State(\n",
    "                    nxt_cw_loss, \n",
    "                    nxt_cw, \n",
    "                    dir_cw, \n",
    "                    1)\n",
    "            )\n",
    "\n",
    "        #Spin left\n",
    "        dir_ccw = spin['ccw'][curr_state.dir]\n",
    "        nxt_ccw = (\n",
    "            curr_state.pos[0] + dir_ccw[0],\n",
    "            curr_state.pos[1] + dir_ccw[1]\n",
    "        ) \n",
    "        if (nxt_ccw in grid) and (not part2 or curr_state.curr_len >= min_dist):\n",
    "            nxt_ccw_loss = curr_state.loss + int(grid[nxt_ccw])\n",
    "            heapq.heappush(\n",
    "                queue, \n",
    "                State(\n",
    "                    nxt_ccw_loss, \n",
    "                    nxt_ccw, \n",
    "                    dir_ccw, \n",
    "                    1)\n",
    "            )\n",
    "\n",
    "\n"
   ]
  },
  {
   "cell_type": "code",
   "execution_count": 23,
   "metadata": {},
   "outputs": [
    {
     "data": {
      "text/plain": [
       "102"
      ]
     },
     "execution_count": 23,
     "metadata": {},
     "output_type": "execute_result"
    }
   ],
   "source": [
    "solve(example)"
   ]
  },
  {
   "cell_type": "code",
   "execution_count": 24,
   "metadata": {},
   "outputs": [
    {
     "name": "stdout",
     "output_type": "stream",
     "text": [
      "\u001b[32mThat's the right answer!  You are one gold star closer to restoring snow operations. [Continue to Part Two]\u001b[0m\n"
     ]
    }
   ],
   "source": [
    "day17.submit_a(solve(actual))"
   ]
  },
  {
   "cell_type": "code",
   "execution_count": 27,
   "metadata": {},
   "outputs": [
    {
     "name": "stdout",
     "output_type": "stream",
     "text": [
      "\u001b[32mThat's the right answer!  You are one gold star closer to restoring snow operations.You have completed Day 17! You can [Shareon\n",
      "  Twitter\n",
      "Mastodon] this victory or [Return to Your Advent Calendar].\u001b[0m\n"
     ]
    }
   ],
   "source": [
    "day17.submit_b(solve(actual, True))"
   ]
  },
  {
   "cell_type": "code",
   "execution_count": null,
   "metadata": {},
   "outputs": [],
   "source": []
  }
 ],
 "metadata": {
  "kernelspec": {
   "display_name": "Python 3",
   "language": "python",
   "name": "python3"
  },
  "language_info": {
   "codemirror_mode": {
    "name": "ipython",
    "version": 3
   },
   "file_extension": ".py",
   "mimetype": "text/x-python",
   "name": "python",
   "nbconvert_exporter": "python",
   "pygments_lexer": "ipython3",
   "version": "3.9.13"
  }
 },
 "nbformat": 4,
 "nbformat_minor": 2
}
