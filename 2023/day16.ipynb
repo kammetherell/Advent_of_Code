{
 "cells": [
  {
   "cell_type": "code",
   "execution_count": 10,
   "metadata": {},
   "outputs": [],
   "source": [
    "import aoc_helpers\n",
    "from collections import defaultdict\n",
    "day16 = aoc_helpers.AOC(2023, 16)\n",
    "actual = day16.get_inputs()\n",
    "actual = aoc_helpers.helper.list_of_chars(actual)"
   ]
  },
  {
   "cell_type": "code",
   "execution_count": 2,
   "metadata": {},
   "outputs": [
    {
     "data": {
      "text/plain": [
       "['.', '|', '.', '.', '.', '\\\\', '.', '.', '.', '.']"
      ]
     },
     "execution_count": 2,
     "metadata": {},
     "output_type": "execute_result"
    }
   ],
   "source": [
    "test = '.|...\\\\....\\n|.-.\\\\.....\\n.....|-...\\n........|.\\n..........\\n.........\\\\\\n..../.\\\\\\\\..\\n.-.-/..|..\\n.|....-|.\\\\\\n..//.|....\\n'\n",
    "test = aoc_helpers.helper.list_of_chars(test)\n",
    "\n",
    "test[0]"
   ]
  },
  {
   "cell_type": "code",
   "execution_count": 3,
   "metadata": {},
   "outputs": [],
   "source": [
    "# right ( 0, 1)\n",
    "# left  ( 0.-1)\n",
    "# Up    (-1, 0)\n",
    "# Down  ( 1, 0)"
   ]
  },
  {
   "cell_type": "code",
   "execution_count": 38,
   "metadata": {},
   "outputs": [],
   "source": [
    "spin = {\n",
    "    'cw':{\n",
    "        ( 0, 1): ( 1, 0), # right   -> down\n",
    "        ( 0,-1): (-1, 0), # left    -> up\n",
    "        (-1, 0): ( 0, 1), # up      -> right\n",
    "        ( 1, 0): ( 0,-1), # down    -> left\n",
    "    },\n",
    "    'ccw':{\n",
    "        ( 0, 1): (-1, 0), # right   -> up\n",
    "        ( 0,-1): ( 1, 0), # left    -> down\n",
    "        (-1, 0): ( 0,-1), # up      -> left\n",
    "        ( 1, 0): ( 0, 1), # down    -> right\n",
    "    }\n",
    "}\n",
    "\n",
    "straight = {\n",
    "        ( 0, 1): '.-', # right   -> up\n",
    "        ( 0,-1): '.-', # left    -> down\n",
    "        (-1, 0): '.|', # up      -> left\n",
    "        ( 1, 0): '.|', # down    -> right\n",
    "}\n",
    "\n",
    "cw = {\n",
    "        ( 0, 1): '\\\\|', # right   -> up\n",
    "        ( 0,-1): '\\\\|', # left    -> down\n",
    "        (-1, 0): '/-',  # up      -> left\n",
    "        ( 1, 0): '/-',  # down    -> right\n",
    "}\n",
    "\n",
    "ccw = {\n",
    "        ( 0, 1): '/|',  # right   -> up\n",
    "        ( 0,-1): '/|',  # left    -> down\n",
    "        (-1, 0): '\\\\-', # up      -> left\n",
    "        ( 1, 0): '\\\\-', # down    -> right\n",
    "}"
   ]
  },
  {
   "cell_type": "code",
   "execution_count": 41,
   "metadata": {},
   "outputs": [],
   "source": [
    "def get_energised(grid, start):\n",
    "    # build a cache of directions we've \n",
    "    # seen from each cell\n",
    "    energised = defaultdict(list)\n",
    "    to_process = [start]\n",
    "\n",
    "    #keep going until we've run out of cells to proces\n",
    "    while to_process:\n",
    "        #create empty list to put energised cells in for future loops\n",
    "        new_cells = []\n",
    "        for coord, dir in to_process:\n",
    "            \n",
    "            # If point doesn't exist or we've seen the direction from that cell before, skip\n",
    "            if coord not in grid or dir in energised[coord]:\n",
    "                continue\n",
    "            # print(f'Point {coord}: \"{grid[coord]}\" - direction {dir}')\n",
    "            energised[coord].append(dir)\n",
    "\n",
    "            if grid[coord] in straight[dir]:\n",
    "                nxt = (\n",
    "                    coord[0] + dir[0],\n",
    "                    coord[1] + dir[1]\n",
    "                )\n",
    "                #print('straight: ', nxt, dir)\n",
    "                new_cells.append((nxt, dir))\n",
    "            \n",
    "            if grid[coord] in cw[dir]:\n",
    "                new_dir = spin['cw'][dir]\n",
    "                nxt = (\n",
    "                    coord[0] + new_dir[0],\n",
    "                    coord[1] + new_dir[1]\n",
    "                )\n",
    "                new_cells.append((nxt, new_dir))\n",
    "            \n",
    "            if grid[coord] in ccw[dir]:\n",
    "                new_dir = spin['ccw'][dir]\n",
    "                nxt = (\n",
    "                    coord[0] + new_dir[0],\n",
    "                    coord[1] + new_dir[1]\n",
    "                )\n",
    "                new_cells.append((nxt, new_dir))\n",
    "            \n",
    "        to_process = new_cells\n",
    "\n",
    "    return len(energised)\n",
    "\n"
   ]
  },
  {
   "cell_type": "code",
   "execution_count": 51,
   "metadata": {},
   "outputs": [],
   "source": [
    "grid = aoc_helpers.helper.coords_dict(actual)\n",
    "\n",
    "#beam step = (coord, dir)\n",
    "start = ((0,0),(0,1))\n",
    "score = get_energised(grid, start)"
   ]
  },
  {
   "cell_type": "code",
   "execution_count": 45,
   "metadata": {},
   "outputs": [
    {
     "name": "stdout",
     "output_type": "stream",
     "text": [
      "\u001b[32mThat's the right answer!  You are one gold star closer to restoring snow operations. [Continue to Part Two]\u001b[0m\n"
     ]
    }
   ],
   "source": [
    "\n",
    "day16.submit_a(score)"
   ]
  },
  {
   "cell_type": "code",
   "execution_count": 56,
   "metadata": {},
   "outputs": [],
   "source": [
    "input = actual\n",
    "\n",
    "grid = aoc_helpers.helper.coords_dict(input)\n",
    "\n",
    "# top must go down\n",
    "top = [(coord, (1,0)) for coord in grid.keys() if coord[0]==0]\n",
    "#left must go right\n",
    "left = [(coord, (0,1)) for coord in grid.keys() if coord[1]==0]\n",
    "\n",
    "max_row, max_col = aoc_helpers.helper.get_max_row_col(\n",
    "    input\n",
    ")\n",
    "\n",
    "#bottom must go up\n",
    "bottom = [(coord, (-1,0)) for coord in grid.keys() if coord[0]==(max_row-1)]\n",
    "#right must go left\n",
    "right = [(coord, (0,-1)) for coord in grid.keys() if coord[1]==(max_col-1)]\n",
    "\n",
    "entries = top + left + bottom + right\n"
   ]
  },
  {
   "cell_type": "code",
   "execution_count": 59,
   "metadata": {},
   "outputs": [
    {
     "name": "stdout",
     "output_type": "stream",
     "text": [
      "Running test 440 of 440\r"
     ]
    }
   ],
   "source": [
    "max_score = 0\n",
    "for idx, start in enumerate(entries):\n",
    "    print(f'Running test {idx+1} of {len(entries)}', end='\\r')\n",
    "    max_score = max(max_score, get_energised(grid, start))\n"
   ]
  },
  {
   "cell_type": "code",
   "execution_count": 61,
   "metadata": {},
   "outputs": [
    {
     "name": "stdout",
     "output_type": "stream",
     "text": [
      "\u001b[32mThat's the right answer!  You are one gold star closer to restoring snow operations.You have completed Day 16! You can [Shareon\n",
      "  Twitter\n",
      "Mastodon] this victory or [Return to Your Advent Calendar].\u001b[0m\n"
     ]
    }
   ],
   "source": [
    "day16.submit_b(max_score)"
   ]
  },
  {
   "cell_type": "code",
   "execution_count": null,
   "metadata": {},
   "outputs": [],
   "source": []
  }
 ],
 "metadata": {
  "kernelspec": {
   "display_name": "Python 3",
   "language": "python",
   "name": "python3"
  },
  "language_info": {
   "codemirror_mode": {
    "name": "ipython",
    "version": 3
   },
   "file_extension": ".py",
   "mimetype": "text/x-python",
   "name": "python",
   "nbconvert_exporter": "python",
   "pygments_lexer": "ipython3",
   "version": "3.9.13"
  }
 },
 "nbformat": 4,
 "nbformat_minor": 2
}
