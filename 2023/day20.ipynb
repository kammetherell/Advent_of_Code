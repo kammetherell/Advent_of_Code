{
 "cells": [
  {
   "cell_type": "code",
   "execution_count": 3,
   "metadata": {},
   "outputs": [],
   "source": [
    "import aoc_helpers\n",
    "day20 = aoc_helpers.AOC(2023,20)\n",
    "actual = day20.get_inputs().splitlines()"
   ]
  },
  {
   "cell_type": "code",
   "execution_count": 10,
   "metadata": {},
   "outputs": [],
   "source": [
    "ex_1 = 'broadcaster -> a, b, c\\n%a -> b\\n%b -> c\\n%c -> inv\\n&inv -> a'\n",
    "ex_1 = ex_1.splitlines()\n",
    "\n",
    "ex_2 ='broadcaster -> a\\n%a -> inv, con\\n&inv -> b\\n%b -> con\\n&con -> output'\n",
    "ex_2 = ex_2.splitlines()"
   ]
  },
  {
   "cell_type": "code",
   "execution_count": 57,
   "metadata": {},
   "outputs": [],
   "source": [
    "class Module:\n",
    "    def __init__(self, name, type, dests, sources=None):\n",
    "        type_dict = {\n",
    "            '%': 'Flip-Flop',\n",
    "            '&': 'Conjunction',\n",
    "        }\n",
    "\n",
    "        self.name = name\n",
    "\n",
    "        self.type = type\n",
    "        self.type_desc = type_dict[type]\n",
    "\n",
    "        self.dests = dests.split(', ')\n",
    "\n",
    "        if type == '%':\n",
    "            self.state = False #Flip-Flops start off\n",
    "        else: #Must be Conjunction\n",
    "            state = dict()\n",
    "            for s in sources:\n",
    "                state[s] = 'Low'\n",
    "            self.state = state\n",
    "\n",
    "\n",
    "    def __repr__(self) -> str:\n",
    "        return f'{self.type_desc} \"{self.name}\" -> {self.dests}'\n",
    "    def receive_pulse(self, pulse):\n",
    "        source, p_type = pulse\n",
    "\n",
    "        if self.type == '%' and p_type == 'Low':\n",
    "            self.state = not self.state\n",
    "            if self.state: #module now on\n",
    "                return (self.dests, (self.name, 'High'))\n",
    "            else:\n",
    "                return (self.dests, (self.name, 'Low'))\n",
    "        elif self.type=='&': #Conjunction\n",
    "            #First update memory\n",
    "            self.state[source] = p_type\n",
    "            all_high = all([v=='High' for v in self.state.values()])\n",
    "            if all_high:\n",
    "                return (self.dests, (self.name, 'Low'))\n",
    "            else:\n",
    "                return (self.dests, (self.name, 'High'))\n",
    "        return None\n",
    "\n"
   ]
  },
  {
   "cell_type": "code",
   "execution_count": 58,
   "metadata": {},
   "outputs": [],
   "source": [
    "def create_modules(inp):\n",
    "    modules = dict()\n",
    "    inp = [m.split(' -> ') for m in inp]\n",
    "    for m in inp:\n",
    "        if m[0][0] == '%': #Flip-Flop\n",
    "            modules[m[0][1:]] = Module(\n",
    "                m[0][1:],\n",
    "                type='%',\n",
    "                dests=m[1],\n",
    "            )\n",
    "        elif m[0][0] == '&': #Conjunction\n",
    "            sources = [x[0][1:] for x in inp if m[0][1:] in x[1]]\n",
    "            modules[m[0][1:]] = Module(\n",
    "                m[0][1:],\n",
    "                type='&',\n",
    "                dests=m[1],\n",
    "                sources=sources\n",
    "            )\n",
    "        else: #Must be broadcaster\n",
    "            modules[m[0]] = m[1].split(', ')\n",
    "            \n",
    "\n",
    "    return modules"
   ]
  },
  {
   "cell_type": "code",
   "execution_count": 100,
   "metadata": {},
   "outputs": [],
   "source": [
    "def press_btn(modules, log=False):\n",
    "    high_count = 0\n",
    "    low_count = 1\n",
    "    Q = []\n",
    "    Q.append((modules['broadcaster'],('broadcaster', 'Low')))\n",
    "    while Q:\n",
    "        \n",
    "        p = Q.pop(0)\n",
    "        if log:\n",
    "            print(f'Module {p[1][0]} sends {p[1][1]} to {p[0]}')\n",
    "        for m in p[0]:\n",
    "            if p[1][1]=='High':\n",
    "                high_count+=1\n",
    "            else:\n",
    "                low_count+=1\n",
    "            if m in modules:\n",
    "                out = modules[m].receive_pulse(p[1])\n",
    "                if out is not None:\n",
    "                    if log:\n",
    "                        print(f'    Module {out[1][0]} sends {out[1][1]} to {out[0]}')\n",
    "                    Q.append(out)\n",
    "\n",
    "    return high_count, low_count"
   ]
  },
  {
   "cell_type": "code",
   "execution_count": 101,
   "metadata": {},
   "outputs": [
    {
     "name": "stdout",
     "output_type": "stream",
     "text": [
      "Press 1000 of 1000\n",
      "\n",
      "49189 17754 873301506\n"
     ]
    }
   ],
   "source": [
    "mods = create_modules(actual)\n",
    "high_count = 0\n",
    "low_count = 0\n",
    "\n",
    "for i in range(1000):\n",
    "    print(f'Press {i+1} of 1000', end='\\r')\n",
    "    high, low = press_btn(mods, False, False)\n",
    "    high_count += high\n",
    "    low_count += low\n",
    "\n",
    "print('\\n')\n",
    "print(high_count, low_count, high_count*low_count)\n"
   ]
  },
  {
   "cell_type": "code",
   "execution_count": 94,
   "metadata": {},
   "outputs": [
    {
     "name": "stdout",
     "output_type": "stream",
     "text": [
      "\u001b[32mThat's the right answer!  You are one gold star closer to restoring snow operations. [Continue to Part Two]\u001b[0m\n"
     ]
    }
   ],
   "source": [
    "day20.submit_a(high_count*low_count)"
   ]
  },
  {
   "cell_type": "code",
   "execution_count": 106,
   "metadata": {},
   "outputs": [
    {
     "data": {
      "text/plain": [
       "['dd']"
      ]
     },
     "execution_count": 106,
     "metadata": {},
     "output_type": "execute_result"
    }
   ],
   "source": [
    "inp = [m.split(' -> ') for m in actual]\n",
    "sources_rx = [x[0][1:] for x in inp if 'rx' in x[1]]\n",
    "sources_rx"
   ]
  },
  {
   "cell_type": "markdown",
   "metadata": {},
   "source": [
    "we need to look at when dd sends a 'low' pulse first\n",
    "\n",
    "'dd' is conjunction, so sends low pulse when all those that send it a pulse have sent a high"
   ]
  },
  {
   "cell_type": "code",
   "execution_count": 107,
   "metadata": {},
   "outputs": [
    {
     "data": {
      "text/plain": [
       "['nx', 'sp', 'cc', 'jq']"
      ]
     },
     "execution_count": 107,
     "metadata": {},
     "output_type": "execute_result"
    }
   ],
   "source": [
    "sigs = [x[0][1:] for x in inp if 'dd' in x[1]]"
   ]
  },
  {
   "cell_type": "code",
   "execution_count": 108,
   "metadata": {},
   "outputs": [],
   "source": [
    "#let's find cycle length for each node to send a high"
   ]
  },
  {
   "cell_type": "code",
   "execution_count": 111,
   "metadata": {},
   "outputs": [],
   "source": [
    "def p2_btn(modules, log=False):\n",
    "    Q = []\n",
    "    signals = []\n",
    "    Q.append((modules['broadcaster'],('broadcaster', 'Low')))\n",
    "    signals.append(('broadcaster', 'Low'))\n",
    "    while Q:\n",
    "        p = Q.pop(0)\n",
    "        signals.append(p[1])\n",
    "        if log:\n",
    "            print(f'Module {p[1][0]} sends {p[1][1]} to {p[0]}')\n",
    "        for m in p[0]:\n",
    "            if m in modules:\n",
    "                out = modules[m].receive_pulse(p[1])\n",
    "                if out is not None:\n",
    "                    if log:\n",
    "                        print(f'    Module {out[1][0]} sends {out[1][1]} to {out[0]}')\n",
    "                    Q.append(out)\n",
    "    return signals"
   ]
  },
  {
   "cell_type": "code",
   "execution_count": 112,
   "metadata": {},
   "outputs": [
    {
     "name": "stdout",
     "output_type": "stream",
     "text": [
      "Press 4013\n",
      "\n",
      "{'nx': 3851, 'sp': 4013, 'cc': 4001, 'jq': 3911}\n"
     ]
    }
   ],
   "source": [
    "import math\n",
    "\n",
    "mods = create_modules(actual)\n",
    "btn_press = 0\n",
    "inp = [m.split(' -> ') for m in actual]\n",
    "sigs = [x[0][1:] for x in inp if 'dd' in x[1]]\n",
    "\n",
    "loop_size = dict()\n",
    "for s in sigs:\n",
    "    loop_size[s]=math.inf\n",
    "\n",
    "while not all([v<math.inf for v in loop_size.values()]):\n",
    "    btn_press +=1\n",
    "    print(f'Press {btn_press}', end='\\r')\n",
    "    pulses = p2_btn(mods)\n",
    "    for s in sigs:\n",
    "        if (s, 'High') in pulses:\n",
    "            loop_size[s] = min(loop_size[s], btn_press)\n",
    "print('\\n')\n",
    "print(loop_size)"
   ]
  },
  {
   "cell_type": "code",
   "execution_count": 114,
   "metadata": {},
   "outputs": [
    {
     "name": "stdout",
     "output_type": "stream",
     "text": [
      "\u001b[32mThat's the right answer!  You are one gold star closer to restoring snow operations.You have completed Day 20! You can [Shareon\n",
      "  Twitter\n",
      "Mastodon] this victory or [Return to Your Advent Calendar].\u001b[0m\n"
     ]
    }
   ],
   "source": [
    "day20.submit_b(math.lcm(*loop_size.values()))"
   ]
  },
  {
   "cell_type": "code",
   "execution_count": null,
   "metadata": {},
   "outputs": [],
   "source": []
  }
 ],
 "metadata": {
  "kernelspec": {
   "display_name": "Python 3",
   "language": "python",
   "name": "python3"
  },
  "language_info": {
   "codemirror_mode": {
    "name": "ipython",
    "version": 3
   },
   "file_extension": ".py",
   "mimetype": "text/x-python",
   "name": "python",
   "nbconvert_exporter": "python",
   "pygments_lexer": "ipython3",
   "version": "3.9.13"
  }
 },
 "nbformat": 4,
 "nbformat_minor": 2
}
