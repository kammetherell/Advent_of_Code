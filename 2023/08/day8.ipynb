{
 "cells": [
  {
   "cell_type": "code",
   "execution_count": 21,
   "metadata": {},
   "outputs": [],
   "source": [
    "import aoc_helpers\n",
    "import re\n",
    "\n",
    "year = 2023\n",
    "day = 8\n",
    "actual = aoc_helpers.get_inputs(year,day, True)"
   ]
  },
  {
   "cell_type": "code",
   "execution_count": 22,
   "metadata": {},
   "outputs": [],
   "source": [
    "test_1 = [\n",
    "    'RL',\n",
    "    '',\n",
    "    'AAA = (BBB, CCC)',\n",
    "    'BBB = (DDD, EEE)',\n",
    "    'CCC = (ZZZ, GGG)',\n",
    "    'DDD = (DDD, DDD)',\n",
    "    'EEE = (EEE, EEE)',\n",
    "    'GGG = (GGG, GGG)',\n",
    "    'ZZZ = (ZZZ, ZZZ)',\n",
    "]\n",
    "\n",
    "test_2 = [\n",
    "    'LLR',\n",
    "    '',\n",
    "    'AAA = (BBB, BBB)',\n",
    "    'BBB = (AAA, ZZZ)',\n",
    "    'ZZZ = (ZZZ, ZZZ)',\n",
    "]"
   ]
  },
  {
   "cell_type": "code",
   "execution_count": 36,
   "metadata": {},
   "outputs": [],
   "source": [
    "class Map:\n",
    "    def __init__(self, map_text) -> None:\n",
    "        self.steps = list(map_text[0])\n",
    "        self.process_map(map_text[2:])\n",
    "        \n",
    "        pass\n",
    "\n",
    "    def process_map(self, map_list):\n",
    "        map_dict = dict()\n",
    "\n",
    "        for node in map_list:\n",
    "            tmp = {\n",
    "                'L': node[7:10],\n",
    "                'R': node[12:15]\n",
    "            }\n",
    "\n",
    "            map_dict[node[0:3]] = tmp\n",
    "\n",
    "        self.map_dict = map_dict\n",
    "\n",
    "        p2_starts = [node for node in map_dict.keys() if node[2]=='A']\n",
    "        self.p2_starts = p2_starts\n",
    "        pass\n",
    "    \n",
    "    def part_1(self):\n",
    "        node = 'AAA'\n",
    "        dest = 'ZZZ'\n",
    "        reset = len(self.steps)\n",
    "\n",
    "        step_idx = 0\n",
    "        step_count = 0\n",
    "\n",
    "        while node != dest:\n",
    "            node = self.map_dict[node][self.steps[step_idx]]\n",
    "\n",
    "            #Go back to start if we reach end of steps\n",
    "            step_idx +=1\n",
    "            if step_idx==reset:\n",
    "                step_idx=0\n",
    "            \n",
    "            step_count +=1\n",
    "\n",
    "        return step_count\n",
    "    \n",
    "    def part_2(self):\n",
    "        reset = len(self.steps)\n",
    "        nodes = self.p2_starts\n",
    "\n",
    "        cycle_lengths = []\n",
    "\n",
    "        for node in nodes:\n",
    "            step_idx = 0\n",
    "            step_count = 0\n",
    "\n",
    "            while node[-1]!='Z':\n",
    "                node = self.map_dict[node][self.steps[step_idx]]\n",
    "\n",
    "                #Go back to start if we reach end of steps\n",
    "                step_idx +=1\n",
    "                if step_idx==reset:\n",
    "                    step_idx=0\n",
    "                \n",
    "                step_count +=1\n",
    "            \n",
    "            cycle_lengths.append(step_count)\n",
    "\n",
    "\n",
    "        return cycle_lengths\n"
   ]
  },
  {
   "cell_type": "code",
   "execution_count": 37,
   "metadata": {},
   "outputs": [
    {
     "name": "stdout",
     "output_type": "stream",
     "text": [
      "21389\n"
     ]
    }
   ],
   "source": [
    "test_1_map = Map(test_1)\n",
    "t_1 = test_1_map.part_1()\n",
    "\n",
    "test_2_map = Map(test_2)\n",
    "t_2 = test_2_map.part_1()\n",
    "\n",
    "#Check if tests pass, then run actual\n",
    "if (t_1 == 2) and (t_2==6):\n",
    "    map = Map(actual)\n",
    "    print(map.part_1())"
   ]
  },
  {
   "attachments": {},
   "cell_type": "markdown",
   "metadata": {},
   "source": [
    "# Part 2"
   ]
  },
  {
   "cell_type": "code",
   "execution_count": 38,
   "metadata": {},
   "outputs": [
    {
     "data": {
      "text/plain": [
       "['11A', '22A']"
      ]
     },
     "execution_count": 38,
     "metadata": {},
     "output_type": "execute_result"
    }
   ],
   "source": [
    "p2_test = [\n",
    "    'LR',\n",
    "    '',\n",
    "    '11A = (11B, XXX)',\n",
    "    '11B = (XXX, 11Z)',\n",
    "    '11Z = (11B, XXX)',\n",
    "    '22A = (22B, XXX)',\n",
    "    '22B = (22C, 22C)',\n",
    "    '22C = (22Z, 22Z)',\n",
    "    '22Z = (22B, 22B)',\n",
    "    'XXX = (XXX, XXX)',\n",
    "]\n",
    "\n",
    "p2_ans = 6\n",
    "\n",
    "p2_map_t = Map(p2_test)\n",
    "p2_map_t.p2_starts"
   ]
  },
  {
   "cell_type": "code",
   "execution_count": 39,
   "metadata": {},
   "outputs": [
    {
     "data": {
      "text/plain": [
       "[2, 3]"
      ]
     },
     "execution_count": 39,
     "metadata": {},
     "output_type": "execute_result"
    }
   ],
   "source": [
    "p2_map_t.part_2()"
   ]
  },
  {
   "cell_type": "code",
   "execution_count": 41,
   "metadata": {},
   "outputs": [
    {
     "data": {
      "text/plain": [
       "[23147, 19631, 12599, 21389, 17873, 20803]"
      ]
     },
     "execution_count": 41,
     "metadata": {},
     "output_type": "execute_result"
    }
   ],
   "source": [
    "import math\n",
    "map = Map(actual)\n",
    "math.lcm(*map.part_2())"
   ]
  },
  {
   "cell_type": "code",
   "execution_count": 44,
   "metadata": {},
   "outputs": [
    {
     "data": {
      "text/plain": [
       "21083806112641"
      ]
     },
     "execution_count": 44,
     "metadata": {},
     "output_type": "execute_result"
    }
   ],
   "source": []
  },
  {
   "cell_type": "code",
   "execution_count": null,
   "metadata": {},
   "outputs": [],
   "source": []
  }
 ],
 "metadata": {
  "kernelspec": {
   "display_name": "Python 3",
   "language": "python",
   "name": "python3"
  },
  "language_info": {
   "codemirror_mode": {
    "name": "ipython",
    "version": 3
   },
   "file_extension": ".py",
   "mimetype": "text/x-python",
   "name": "python",
   "nbconvert_exporter": "python",
   "pygments_lexer": "ipython3",
   "version": "3.9.13"
  },
  "orig_nbformat": 4
 },
 "nbformat": 4,
 "nbformat_minor": 2
}
