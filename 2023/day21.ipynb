{
 "cells": [
  {
   "cell_type": "code",
   "execution_count": 3,
   "metadata": {},
   "outputs": [],
   "source": [
    "import aoc_helpers\n",
    "day21 = aoc_helpers.AOC(2023,21)\n",
    "actual = day21.get_inputs().splitlines()"
   ]
  },
  {
   "cell_type": "code",
   "execution_count": 4,
   "metadata": {},
   "outputs": [],
   "source": [
    "test = '...........\\n.....###.#.\\n.###.##..#.\\n..#.#...#..\\n....#.#....\\n.##..S####.\\n.##..#...#.\\n.......##..\\n.##.#.####.\\n.##..##.##.\\n...........'\n",
    "test = test.splitlines()"
   ]
  },
  {
   "cell_type": "code",
   "execution_count": 14,
   "metadata": {},
   "outputs": [
    {
     "name": "stdout",
     "output_type": "stream",
     "text": [
      "3795\n",
      "\u001b[32mThat's the right answer!  You are one gold star closer to restoring snow operations. [Continue to Part Two]\u001b[0m\n"
     ]
    }
   ],
   "source": [
    "coords, shape = aoc_helpers.helper.coords_dict(actual)\n",
    "start = [k for k,v in coords.items() if v =='S'][0]\n",
    "\n",
    "opts = {start}\n",
    "num_steps = 64\n",
    "\n",
    "for i in range(num_steps):\n",
    "    new_opts = set()\n",
    "    for p in opts:\n",
    "        dirs = [\n",
    "            (p[0]-1,p[1]), # Up\n",
    "            (p[0]+1,p[1]), # Down\n",
    "            (p[0],p[1]-1), # Left\n",
    "            (p[0],p[1]+1), # Right\n",
    "        ]\n",
    "\n",
    "        for o in dirs:\n",
    "            if (o in coords) and (coords[o] != '#'):\n",
    "                new_opts.add(o)\n",
    "\n",
    "    opts = new_opts\n",
    "\n",
    "print(len(opts))\n",
    "        \n",
    "day21.submit_a(len(opts))\n",
    "\n"
   ]
  },
  {
   "cell_type": "code",
   "execution_count": null,
   "metadata": {},
   "outputs": [],
   "source": []
  }
 ],
 "metadata": {
  "kernelspec": {
   "display_name": "Python 3",
   "language": "python",
   "name": "python3"
  },
  "language_info": {
   "codemirror_mode": {
    "name": "ipython",
    "version": 3
   },
   "file_extension": ".py",
   "mimetype": "text/x-python",
   "name": "python",
   "nbconvert_exporter": "python",
   "pygments_lexer": "ipython3",
   "version": "3.9.13"
  }
 },
 "nbformat": 4,
 "nbformat_minor": 2
}
