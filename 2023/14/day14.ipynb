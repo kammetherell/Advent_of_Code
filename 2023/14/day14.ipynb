{
 "cells": [
  {
   "cell_type": "code",
   "execution_count": 2,
   "metadata": {},
   "outputs": [
    {
     "data": {
      "text/plain": [
       "'O...#.O......#...##....O#.#.OO...O.#OO#.....#O.O.....#......#.OO...O...O..O#O#....#...O..O...O.....O'"
      ]
     },
     "execution_count": 2,
     "metadata": {},
     "output_type": "execute_result"
    }
   ],
   "source": [
    "import aoc_helpers\n",
    "day14 = aoc_helpers.AOC(2023, 14)\n",
    "actual = day14.get_inputs()\n",
    "actual = actual.splitlines()\n",
    "actual[0]"
   ]
  },
  {
   "cell_type": "code",
   "execution_count": 3,
   "metadata": {},
   "outputs": [],
   "source": [
    "test = [\n",
    "    'O....#....',\n",
    "    'O.OO#....#',\n",
    "    '.....##...',\n",
    "    'OO.#O....O',\n",
    "    '.O.....O#.',\n",
    "    'O.#..O.#.#',\n",
    "    '..O..#O..O',\n",
    "    '.......O..',\n",
    "    '#....###..',\n",
    "    '#OO..#....',\n",
    "    ]"
   ]
  },
  {
   "cell_type": "code",
   "execution_count": 7,
   "metadata": {},
   "outputs": [],
   "source": [
    "def tilt(platform):\n",
    "    cols = dict()\n",
    "    for n in range(len(platform[0])):\n",
    "        cols[n] = []\n",
    "\n",
    "    for row, line in enumerate(platform):\n",
    "        for col, char in enumerate(line):\n",
    "            # If char is a 'O', just add to column\n",
    "            if char == 'O':\n",
    "                cols[col].append(char)\n",
    "            # If char is a '#', we need to pad the curr col,\n",
    "            # so '#' stays fixed\n",
    "            if char =='#':\n",
    "                #max index is len -1 (0-based counting)\n",
    "                cur_mx_idx = len(cols[col]) - 1\n",
    "                diff = row - cur_mx_idx\n",
    "                tmp = ['.']*(diff-1) + ['#']\n",
    "                cols[col]+=tmp\n",
    "    \n",
    "    return cols\n"
   ]
  },
  {
   "cell_type": "code",
   "execution_count": 15,
   "metadata": {},
   "outputs": [],
   "source": [
    "def calc_load(tilted, num_rows):\n",
    "    tot_load = 0\n",
    "    for col, lst in tilted.items():\n",
    "        loads = []\n",
    "        for idx, char in enumerate(lst):\n",
    "            if char == 'O':\n",
    "                loads.append(num_rows - idx)\n",
    "        # print(loads)\n",
    "        tot_load += sum(loads)\n",
    "    \n",
    "    return tot_load\n"
   ]
  },
  {
   "cell_type": "code",
   "execution_count": 16,
   "metadata": {},
   "outputs": [
    {
     "data": {
      "text/plain": [
       "113525"
      ]
     },
     "execution_count": 16,
     "metadata": {},
     "output_type": "execute_result"
    }
   ],
   "source": [
    "tilted = tilt(actual)\n",
    "load = calc_load(tilted, len(actual))\n",
    "load"
   ]
  },
  {
   "cell_type": "code",
   "execution_count": 17,
   "metadata": {},
   "outputs": [
    {
     "name": "stdout",
     "output_type": "stream",
     "text": [
      "\u001b[32mThat's the right answer!  You are one gold star closer to restoring snow operations. [Continue to Part Two]\u001b[0m\n"
     ]
    }
   ],
   "source": [
    "day14.submit_a(load)"
   ]
  },
  {
   "cell_type": "code",
   "execution_count": null,
   "metadata": {},
   "outputs": [],
   "source": []
  }
 ],
 "metadata": {
  "kernelspec": {
   "display_name": "Python 3",
   "language": "python",
   "name": "python3"
  },
  "language_info": {
   "codemirror_mode": {
    "name": "ipython",
    "version": 3
   },
   "file_extension": ".py",
   "mimetype": "text/x-python",
   "name": "python",
   "nbconvert_exporter": "python",
   "pygments_lexer": "ipython3",
   "version": "3.9.13"
  }
 },
 "nbformat": 4,
 "nbformat_minor": 2
}
