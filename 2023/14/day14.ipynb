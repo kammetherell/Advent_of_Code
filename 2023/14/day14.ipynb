{
 "cells": [
  {
   "cell_type": "code",
   "execution_count": 2,
   "metadata": {},
   "outputs": [
    {
     "data": {
      "text/plain": [
       "'O...#.O......#...##....O#.#.OO...O.#OO#.....#O.O.....#......#.OO...O...O..O#O#....#...O..O...O.....O'"
      ]
     },
     "execution_count": 2,
     "metadata": {},
     "output_type": "execute_result"
    }
   ],
   "source": [
    "import aoc_helpers\n",
    "day14 = aoc_helpers.AOC(2023, 14)\n",
    "actual = day14.get_inputs()\n",
    "actual = actual.splitlines()\n",
    "actual[0]"
   ]
  },
  {
   "cell_type": "code",
   "execution_count": null,
   "metadata": {},
   "outputs": [],
   "source": [
    "test = [\n",
    "    'O....#....',\n",
    "    'O.OO#....#',\n",
    "    '.....##...',\n",
    "    'OO.#O....O',\n",
    "    '.O.....O#.',\n",
    "    'O.#..O.#.#',\n",
    "    '..O..#O..O',\n",
    "    '.......O..',\n",
    "    '#....###..',\n",
    "    '#OO..#....',\n",
    "    ]"
   ]
  }
 ],
 "metadata": {
  "kernelspec": {
   "display_name": "Python 3",
   "language": "python",
   "name": "python3"
  },
  "language_info": {
   "codemirror_mode": {
    "name": "ipython",
    "version": 3
   },
   "file_extension": ".py",
   "mimetype": "text/x-python",
   "name": "python",
   "nbconvert_exporter": "python",
   "pygments_lexer": "ipython3",
   "version": "3.9.13"
  }
 },
 "nbformat": 4,
 "nbformat_minor": 2
}
