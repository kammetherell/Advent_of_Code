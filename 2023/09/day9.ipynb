{
 "cells": [
  {
   "cell_type": "code",
   "execution_count": 14,
   "metadata": {},
   "outputs": [],
   "source": [
    "import aoc_helpers\n",
    "import re\n",
    "\n",
    "actual = aoc_helpers.load_data('actual.txt')"
   ]
  },
  {
   "cell_type": "code",
   "execution_count": 5,
   "metadata": {},
   "outputs": [],
   "source": [
    "test = [\n",
    "    '0 3 6 9 12 15',\n",
    "    '1 3 6 10 15 21',\n",
    "    '10 13 16 21 30 45',\n",
    "]"
   ]
  },
  {
   "cell_type": "code",
   "execution_count": 9,
   "metadata": {},
   "outputs": [
    {
     "data": {
      "text/plain": [
       "[0, 3, 6, 9, 12, 15]"
      ]
     },
     "execution_count": 9,
     "metadata": {},
     "output_type": "execute_result"
    }
   ],
   "source": [
    "list(map(int,test[0].split()))"
   ]
  },
  {
   "cell_type": "code",
   "execution_count": 33,
   "metadata": {},
   "outputs": [],
   "source": [
    "#Next in sequence is sum of last of each list that generates the gaps - e.g. next is 15+3\n",
    "# 0   3   6   9   12   15\n",
    "#   3   3   3   3    3\n",
    "#     0   0   0    0\n",
    "\n",
    "def get_next(seq, part = 1):\n",
    "    seq = list(map(int, seq.split()))\n",
    "\n",
    "    #Extrapolating backwards is same as extrapolating forwards for the list in reverse\n",
    "    if part==2:\n",
    "        seq.reverse()\n",
    "\n",
    "    total = seq[-1]\n",
    "    complete = False\n",
    "\n",
    "    while not complete:\n",
    "        #print(seq)\n",
    "        tmp = []\n",
    "\n",
    "        #loop through each pair in sequence\n",
    "        for i in range(0,len(seq)-1):\n",
    "            dif = seq[i+1] - seq[i]\n",
    "            tmp.append(dif)\n",
    "\n",
    "        total += tmp[-1]\n",
    "\n",
    "        #set seq to the diffs to use in next loop\n",
    "        seq = tmp\n",
    "\n",
    "        #if sum(seq) == 0: DAMN EDGE CASE WHERE DIFFS ADD UP TO 0\n",
    "        if all(x == 0 for x in seq):\n",
    "            complete = True\n",
    "\n",
    "    return total"
   ]
  },
  {
   "cell_type": "code",
   "execution_count": 34,
   "metadata": {},
   "outputs": [
    {
     "name": "stdout",
     "output_type": "stream",
     "text": [
      "1938731307\n"
     ]
    }
   ],
   "source": [
    "#PART1\n",
    "list_next = []\n",
    "\n",
    "for seq in actual:\n",
    "    list_next.append(get_next(seq))\n",
    "\n",
    "print(sum(list_next))"
   ]
  },
  {
   "cell_type": "code",
   "execution_count": 35,
   "metadata": {},
   "outputs": [
    {
     "name": "stdout",
     "output_type": "stream",
     "text": [
      "948\n"
     ]
    }
   ],
   "source": [
    "#PART 2\n",
    "list_next = []\n",
    "\n",
    "for seq in actual:\n",
    "    list_next.append(get_next(seq, 2))\n",
    "\n",
    "print(sum(list_next))"
   ]
  },
  {
   "cell_type": "code",
   "execution_count": null,
   "metadata": {},
   "outputs": [],
   "source": []
  }
 ],
 "metadata": {
  "kernelspec": {
   "display_name": "Python 3",
   "language": "python",
   "name": "python3"
  },
  "language_info": {
   "codemirror_mode": {
    "name": "ipython",
    "version": 3
   },
   "file_extension": ".py",
   "mimetype": "text/x-python",
   "name": "python",
   "nbconvert_exporter": "python",
   "pygments_lexer": "ipython3",
   "version": "3.9.13"
  },
  "orig_nbformat": 4
 },
 "nbformat": 4,
 "nbformat_minor": 2
}
