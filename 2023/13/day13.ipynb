{
 "cells": [
  {
   "cell_type": "code",
   "execution_count": 1,
   "metadata": {},
   "outputs": [
    {
     "data": {
      "text/plain": [
       "[['##..##..##.',\n",
       "  '######..###',\n",
       "  '.####.##.##',\n",
       "  '..........#',\n",
       "  '.####.##.##',\n",
       "  '.####....##',\n",
       "  '..##..##..#'],\n",
       " ['##.##.#.#..##',\n",
       "  '##.##.#.#...#',\n",
       "  '.#.###......#',\n",
       "  '.###.##..#..#',\n",
       "  '##.#.##....##',\n",
       "  '.#..###.###.#',\n",
       "  '.#...#...#.##',\n",
       "  '#.#.##.#...##',\n",
       "  '#.###.#.##.#.',\n",
       "  '#.#.#...####.',\n",
       "  '#.#.#...####.',\n",
       "  '#.###.#.##.#.',\n",
       "  '#.#.##.#...##']]"
      ]
     },
     "execution_count": 1,
     "metadata": {},
     "output_type": "execute_result"
    }
   ],
   "source": [
    "import aoc_helpers\n",
    "year = 2023\n",
    "day = 13\n",
    "actual = aoc_helpers.get_inputs(year,day, False)\n",
    "actual = [\n",
    "    patt.split('\\n')\n",
    "    for patt in actual.split('\\n\\n')]\n",
    "\n",
    "actual[:2]"
   ]
  },
  {
   "cell_type": "code",
   "execution_count": 2,
   "metadata": {},
   "outputs": [],
   "source": [
    "test = [\n",
    "    ['#.##..##.',\n",
    "    '..#.##.#.',\n",
    "    '##......#',\n",
    "    '##......#',\n",
    "    '..#.##.#.',\n",
    "    '..##..##.',\n",
    "    '#.#.##.#.',],\n",
    "    ['#...##..#',\n",
    "    '#....#..#',\n",
    "    '..##..###',\n",
    "    '#####.##.',\n",
    "    '#####.##.',\n",
    "    '..##..###',\n",
    "    '#....#..#',]\n",
    "]"
   ]
  },
  {
   "cell_type": "code",
   "execution_count": 3,
   "metadata": {},
   "outputs": [
    {
     "data": {
      "text/plain": [
       "(7, 9)"
      ]
     },
     "execution_count": 3,
     "metadata": {},
     "output_type": "execute_result"
    }
   ],
   "source": [
    "aoc_helpers.helper.get_max_row_col(test[0])"
   ]
  },
  {
   "cell_type": "code",
   "execution_count": 95,
   "metadata": {},
   "outputs": [],
   "source": [
    "  \n",
    "class Map:\n",
    "    def __init__(self, map_list) -> None:\n",
    "        self.max_row, self.max_col = aoc_helpers.helper.get_max_row_col(map_list)\n",
    "        self.__load_rocks(map_list)\n",
    "\n",
    "        \n",
    "        \n",
    "    def __repr__(self) -> str:\n",
    "        return f'Map {self.max_row} rows; {self.max_col} Cols; {len(self.rocks)} Rocks'\n",
    "    \n",
    "    def __load_rocks(self, map):\n",
    "        rocks = list()\n",
    "\n",
    "        for row, line in enumerate(map):\n",
    "            for col, char in enumerate(line):    \n",
    "                if char =='#':\n",
    "                    #add 1 for counting from 1 in example\n",
    "                    rocks.append((row+1, col+1))\n",
    "\n",
    "        self.rocks = rocks\n",
    "\n",
    "    def flip_h(self, axis, test=False):\n",
    "        # print(self.rocks)\n",
    "        rocks_to_flip = [r for r in self.rocks if r[1] < axis]\n",
    "        if test:\n",
    "            print(rocks_to_flip)\n",
    "        \n",
    "        sym = True\n",
    "        rock_counter = 0\n",
    "\n",
    "        while sym and rock_counter < len(rocks_to_flip):\n",
    "            r = rocks_to_flip[rock_counter]\n",
    "            \n",
    "            new_col = axis + (axis - r[1]+1)\n",
    "            if test:\n",
    "                print(r, new_col)\n",
    "            if new_col <= self.max_col:\n",
    "                r_flipped = (\n",
    "                    r[0],\n",
    "                    new_col\n",
    "                )\n",
    "                # print(r_flipped in self.rocks)\n",
    "\n",
    "                if r_flipped not in self.rocks:\n",
    "                    sym = False\n",
    "            rock_counter+=1\n",
    "\n",
    "        return sym\n",
    "    \n",
    "    def flip_v(self, axistest = False):\n",
    "        # print(self.rocks)\n",
    "        rocks_to_flip = [r for r in self.rocks if r[0] < axis]\n",
    "        # print(rocks_to_flip)\n",
    "        \n",
    "        sym = True\n",
    "        rock_counter = 0\n",
    "\n",
    "        while sym and rock_counter < len(rocks_to_flip):\n",
    "            r = rocks_to_flip[rock_counter]\n",
    "            \n",
    "            new_row = axis + (axis - r[0]+1)\n",
    "            # print(r, new_col)\n",
    "            if new_row <= self.max_row:\n",
    "                r_flipped = (\n",
    "                    new_row,\n",
    "                    r[1]\n",
    "                )\n",
    "                # print(r_flipped in self.rocks)\n",
    "\n",
    "                if r_flipped not in self.rocks:\n",
    "                    sym = False\n",
    "            rock_counter+=1\n",
    "\n",
    "        return sym\n",
    "\n",
    "        \n",
    "\n",
    "        "
   ]
  },
  {
   "cell_type": "code",
   "execution_count": 96,
   "metadata": {},
   "outputs": [
    {
     "data": {
      "text/plain": [
       "[Map 7 rows; 9 Cols; 28 Rocks, Map 7 rows; 9 Cols; 34 Rocks]"
      ]
     },
     "execution_count": 96,
     "metadata": {},
     "output_type": "execute_result"
    }
   ],
   "source": [
    "maps = []\n",
    "\n",
    "for map in test:\n",
    "    maps.append(Map(map))\n",
    "\n",
    "maps\n"
   ]
  },
  {
   "cell_type": "code",
   "execution_count": 101,
   "metadata": {},
   "outputs": [
    {
     "name": "stdout",
     "output_type": "stream",
     "text": [
      "1\n",
      "1\n"
     ]
    }
   ],
   "source": [
    "summary = 0\n",
    "\n",
    "for map in maps:\n",
    "    found = False\n",
    "    complete = False\n",
    "\n",
    "    axis = 0\n",
    "\n",
    "    while not found and not complete:\n",
    "        axis+=1\n",
    "        if (axis >= map.max_col) and (axis >= map.max_row):\n",
    "            complete = True\n",
    "        else:\n",
    "            found = map.flip_h(axis)\n",
    "            if not found:\n",
    "                found = map.flip_v(axis)\n",
    "\n",
    "    if found:\n",
    "        print(axis)\n",
    "        summary+=axis\n",
    "    "
   ]
  },
  {
   "cell_type": "code",
   "execution_count": 100,
   "metadata": {},
   "outputs": [
    {
     "data": {
      "text/plain": [
       "2"
      ]
     },
     "execution_count": 100,
     "metadata": {},
     "output_type": "execute_result"
    }
   ],
   "source": [
    "summary"
   ]
  },
  {
   "cell_type": "code",
   "execution_count": null,
   "metadata": {},
   "outputs": [],
   "source": []
  }
 ],
 "metadata": {
  "kernelspec": {
   "display_name": "Python 3",
   "language": "python",
   "name": "python3"
  },
  "language_info": {
   "codemirror_mode": {
    "name": "ipython",
    "version": 3
   },
   "file_extension": ".py",
   "mimetype": "text/x-python",
   "name": "python",
   "nbconvert_exporter": "python",
   "pygments_lexer": "ipython3",
   "version": "3.9.13"
  }
 },
 "nbformat": 4,
 "nbformat_minor": 2
}
