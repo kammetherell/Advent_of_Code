{
 "cells": [
  {
   "cell_type": "code",
   "execution_count": 2,
   "metadata": {},
   "outputs": [],
   "source": [
    "import aoc_helpers\n",
    "year = 2023\n",
    "day = 13\n",
    "day13 = aoc_helpers.AOC(year, day)\n",
    "actual = day13.get_inputs()\n",
    "actual = [\n",
    "    patt.split('\\n')\n",
    "    for patt in actual.split('\\n\\n')]"
   ]
  },
  {
   "cell_type": "code",
   "execution_count": 3,
   "metadata": {},
   "outputs": [],
   "source": [
    "test = [\n",
    "    ['#.##..##.',\n",
    "    '..#.##.#.',\n",
    "    '##......#',\n",
    "    '##......#',\n",
    "    '..#.##.#.',\n",
    "    '..##..##.',\n",
    "    '#.#.##.#.',],\n",
    "    ['#...##..#',\n",
    "    '#....#..#',\n",
    "    '..##..###',\n",
    "    '#####.##.',\n",
    "    '#####.##.',\n",
    "    '..##..###',\n",
    "    '#....#..#',]\n",
    "]"
   ]
  },
  {
   "cell_type": "code",
   "execution_count": 4,
   "metadata": {},
   "outputs": [
    {
     "data": {
      "text/plain": [
       "(7, 9)"
      ]
     },
     "execution_count": 4,
     "metadata": {},
     "output_type": "execute_result"
    }
   ],
   "source": [
    "aoc_helpers.helper.get_max_row_col(test[0])"
   ]
  },
  {
   "cell_type": "code",
   "execution_count": 5,
   "metadata": {},
   "outputs": [],
   "source": [
    "  \n",
    "class Map:\n",
    "    def __init__(self, map_list) -> None:\n",
    "        self.max_row, self.max_col = aoc_helpers.helper.get_max_row_col(map_list)\n",
    "        self.max_col += -1\n",
    "        self.max_row += -1\n",
    "        self.__load_rocks(map_list)\n",
    "\n",
    "        \n",
    "        \n",
    "    def __repr__(self) -> str:\n",
    "        return f'Map {self.max_row} rows; {self.max_col} Cols; {len(self.rocks)} Rocks'\n",
    "    \n",
    "    def __load_rocks(self, map):\n",
    "        rocks = list()\n",
    "\n",
    "        for row, line in enumerate(map):\n",
    "            for col, char in enumerate(line):    \n",
    "                if char =='#':\n",
    "                    #add 1 for counting from 1 in example\n",
    "                    rocks.append((row, col))\n",
    "\n",
    "        self.rocks = rocks\n",
    "\n",
    "    def is_flip_h(self, axis, test=False):\n",
    "        if test:\n",
    "            print(f'{len(self.rocks)} to process around ')\n",
    "        \n",
    "        sym = True\n",
    "        rock_counter = 0\n",
    "\n",
    "        while sym and rock_counter < len(self.rocks):\n",
    "            r = self.rocks[rock_counter]\n",
    "            \n",
    "            new_col = axis + (axis+1 - r[1])\n",
    "            if test:\n",
    "                print(f'Rock #{rock_counter}',r, new_col)\n",
    "            if 0 <= new_col <= self.max_col:\n",
    "                r_flipped = (\n",
    "                    r[0],\n",
    "                    new_col\n",
    "                )\n",
    "\n",
    "                if r_flipped not in self.rocks:\n",
    "                    sym = False\n",
    "            rock_counter+=1\n",
    "\n",
    "        return sym\n",
    "    \n",
    "    def is_flip_v(self, axis, test = False):        \n",
    "        sym = True\n",
    "        rock_counter = 0\n",
    "\n",
    "        while sym and rock_counter < len(self.rocks):\n",
    "            r = self.rocks[rock_counter]\n",
    "            \n",
    "            new_row = axis + (axis+1 - r[0])\n",
    "            # print(r, new_col)\n",
    "            if 0 <= new_row <= self.max_row:\n",
    "                r_flipped = (\n",
    "                    new_row,\n",
    "                    r[1]\n",
    "                )\n",
    "                # print(r_flipped in self.rocks)\n",
    "\n",
    "                if r_flipped not in self.rocks:\n",
    "                    sym = False\n",
    "            rock_counter+=1\n",
    "\n",
    "        return sym\n",
    "\n",
    "        \n",
    "\n",
    "        "
   ]
  },
  {
   "cell_type": "code",
   "execution_count": 6,
   "metadata": {},
   "outputs": [],
   "source": [
    "def solve(map):\n",
    "    for col in range(map.max_col):\n",
    "        if map.is_flip_h(col):\n",
    "            return col+1\n",
    "    for row in range(map.max_row):\n",
    "        if map.is_flip_v(row):\n",
    "            return (row+1)*100\n",
    "    return 0 "
   ]
  },
  {
   "cell_type": "code",
   "execution_count": 7,
   "metadata": {},
   "outputs": [],
   "source": [
    "maps = []\n",
    "\n",
    "for map in actual:\n",
    "    maps.append(Map(map))\n"
   ]
  },
  {
   "cell_type": "code",
   "execution_count": 8,
   "metadata": {},
   "outputs": [
    {
     "name": "stdout",
     "output_type": "stream",
     "text": [
      "43 to process around \n",
      "Rock #0 (0, 0) 9\n",
      "Rock #1 (0, 1) 8\n",
      "Rock #2 (0, 4) 5\n",
      "Rock #3 (0, 5) 4\n",
      "Rock #4 (0, 8) 1\n",
      "Rock #5 (0, 9) 0\n",
      "Rock #6 (1, 0) 9\n",
      "Rock #7 (1, 1) 8\n",
      "Rock #8 (1, 2) 7\n"
     ]
    },
    {
     "data": {
      "text/plain": [
       "False"
      ]
     },
     "execution_count": 8,
     "metadata": {},
     "output_type": "execute_result"
    }
   ],
   "source": [
    "maps[0].is_flip_h(4, True)"
   ]
  },
  {
   "cell_type": "code",
   "execution_count": 9,
   "metadata": {},
   "outputs": [
    {
     "data": {
      "text/plain": [
       "34993"
      ]
     },
     "execution_count": 9,
     "metadata": {},
     "output_type": "execute_result"
    }
   ],
   "source": [
    "summary = 0\n",
    "\n",
    "for map in maps:\n",
    "    summary += solve(map)\n",
    "summary"
   ]
  },
  {
   "cell_type": "code",
   "execution_count": 10,
   "metadata": {},
   "outputs": [
    {
     "name": "stdout",
     "output_type": "stream",
     "text": [
      "aocd will not submit that answer again. At 2023-12-18 03:59:13.678153-05:00 you've previously submitted 34993 and the server responded with:\n",
      "\u001b[32mThat's the right answer!  You are one gold star closer to restoring snow operations. [Continue to Part Two]\u001b[0m\n"
     ]
    }
   ],
   "source": [
    "day13.submit_a(summary)"
   ]
  },
  {
   "cell_type": "code",
   "execution_count": null,
   "metadata": {},
   "outputs": [],
   "source": []
  }
 ],
 "metadata": {
  "kernelspec": {
   "display_name": "Python 3",
   "language": "python",
   "name": "python3"
  },
  "language_info": {
   "codemirror_mode": {
    "name": "ipython",
    "version": 3
   },
   "file_extension": ".py",
   "mimetype": "text/x-python",
   "name": "python",
   "nbconvert_exporter": "python",
   "pygments_lexer": "ipython3",
   "version": "3.9.13"
  }
 },
 "nbformat": 4,
 "nbformat_minor": 2
}
