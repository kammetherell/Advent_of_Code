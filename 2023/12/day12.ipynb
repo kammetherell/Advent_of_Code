{
 "cells": [
  {
   "cell_type": "code",
   "execution_count": 3,
   "metadata": {},
   "outputs": [],
   "source": [
    "import aoc_helpers\n",
    "year = 2023\n",
    "day = 12\n",
    "actual = aoc_helpers.get_inputs(year,day, True)\n"
   ]
  },
  {
   "cell_type": "code",
   "execution_count": 5,
   "metadata": {},
   "outputs": [],
   "source": [
    "test = [\n",
    "    '???.### 1,1,3',\n",
    "    '.??..??...?##. 1,1,3',\n",
    "    '?#?#?#?#?#?#?#? 1,3,1,6',\n",
    "    '????.#...#... 4,1,1',\n",
    "    '????.######..#####. 1,6,5',\n",
    "    '?###???????? 3,2,1',\n",
    "]"
   ]
  },
  {
   "cell_type": "markdown",
   "metadata": {},
   "source": [
    "Data Prep"
   ]
  },
  {
   "cell_type": "code",
   "execution_count": 6,
   "metadata": {},
   "outputs": [
    {
     "data": {
      "text/plain": [
       "[['???.###', (1, 1, 3)],\n",
       " ['.??..??...?##.', (1, 1, 3)],\n",
       " ['?#?#?#?#?#?#?#?', (1, 3, 1, 6)],\n",
       " ['????.#...#...', (4, 1, 1)],\n",
       " ['????.######..#####.', (1, 6, 5)],\n",
       " ['?###????????', (3, 2, 1)]]"
      ]
     },
     "execution_count": 6,
     "metadata": {},
     "output_type": "execute_result"
    }
   ],
   "source": [
    "#Split each line in input into the two parts, the \n",
    "springs = [c.strip().split() for c in test]\n",
    "#Convert pattern to a tuple\n",
    "ss = [[c[0],tuple(int(d) for d in c[1].split(','))] for c in springs]\n",
    "\n",
    "ss"
   ]
  },
  {
   "cell_type": "code",
   "execution_count": 13,
   "metadata": {},
   "outputs": [],
   "source": [
    "# DP mostly copied from Jonathan Paulson\n",
    "import re\n",
    "\t\n",
    "def solve(line, nums, part1=True):\n",
    "\tif part1 == False:\n",
    "\t\tline = \"?\".join([line]*5)\n",
    "\t\tnums *= 5\n",
    "\n",
    "    #used to store previous solutions to save compute effort\n",
    "\tDP = {}\n",
    "\n",
    "\tdef f(i, n, b): # return how many solutions there are from this position\n",
    "\t\t# i - index in line\n",
    "\t\t# n - index in nums\n",
    "\t\t# b - size of current block\n",
    "\t\tif (i,n,b) in DP:return DP[(i,n,b)] # DP already solved it\n",
    "\t\t\n",
    "\t\tif i == len(line):\t# at the end of the line, return 1 if this is a posible configuration or 0 otherwise\n",
    "\t\t\treturn int(\n",
    "\t\t\t\tn == len(nums) and b == 0 or \t\t\t# no current block, and finished all numbers\n",
    "\t\t\t\tn == len(nums)-1 and b == nums[-1]\t\t# one last block, and currently in a block of that size\n",
    "\t\t\t)\n",
    "\n",
    "\t\tans = 0\n",
    "\t\tif line[i] in \".?\":\t# treat it like a .\n",
    "\t\t\tif(b == 0):\n",
    "\t\t\t\tans += f(i+1, n, 0) # just keep moving forward\n",
    "\t\t\telse:\t\t\t# we have a current block\n",
    "\t\t\t\tif n == len(nums): return 0\t# more springs than input asks for, so not a solution\n",
    "\t\t\t\tif b == nums[n]: \t\t\t# If we currently have a continguous spring of the required size\n",
    "\t\t\t\t\tans += f(i+1, n+1, 0)\t# Move forward and count this block\n",
    "\t\tif line[i] in \"#?\": # treat it like a #\n",
    "\t\t\tans += f(i+1, n, b+1) \t# no choice but to continue current block\n",
    "\t\tDP[(i,n,b)] = ans # save to DP\n",
    "\t\treturn ans\n",
    "\treturn f(0,0,0)\n",
    "\n",
    "def parseLine(l):\n",
    "\tlhs,rhs = re.sub(r\"\\.+\",\".\",l).split()\n",
    "\tnums = eval(rhs)\n",
    "\treturn (lhs, nums)"
   ]
  },
  {
   "cell_type": "code",
   "execution_count": 14,
   "metadata": {},
   "outputs": [
    {
     "data": {
      "text/plain": [
       "6852"
      ]
     },
     "execution_count": 14,
     "metadata": {},
     "output_type": "execute_result"
    }
   ],
   "source": [
    "#part 1\n",
    "lines = [parseLine(l) for l in actual]\n",
    "sum(solve(ln, num) for ln, num in lines)"
   ]
  },
  {
   "cell_type": "code",
   "execution_count": 16,
   "metadata": {},
   "outputs": [
    {
     "data": {
      "text/plain": [
       "8475948826693"
      ]
     },
     "execution_count": 16,
     "metadata": {},
     "output_type": "execute_result"
    }
   ],
   "source": [
    "ans = sum(solve(ln, num, False) for ln, num in lines)\n",
    "ans"
   ]
  },
  {
   "cell_type": "code",
   "execution_count": 17,
   "metadata": {},
   "outputs": [
    {
     "name": "stdout",
     "output_type": "stream",
     "text": [
      "\u001b[32mThat's the right answer!  You are one gold star closer to restoring snow operations.You have completed Day 12! You can [Shareon\n",
      "  Twitter\n",
      "Mastodon] this victory or [Return to Your Advent Calendar].\u001b[0m\n"
     ]
    }
   ],
   "source": [
    "aoc_helpers.submit(\n",
    "    ans,\n",
    "    year=year,\n",
    "    day = day, \n",
    "    part = 'b'\n",
    ")"
   ]
  },
  {
   "cell_type": "code",
   "execution_count": null,
   "metadata": {},
   "outputs": [],
   "source": []
  }
 ],
 "metadata": {
  "kernelspec": {
   "display_name": "Python 3",
   "language": "python",
   "name": "python3"
  },
  "language_info": {
   "codemirror_mode": {
    "name": "ipython",
    "version": 3
   },
   "file_extension": ".py",
   "mimetype": "text/x-python",
   "name": "python",
   "nbconvert_exporter": "python",
   "pygments_lexer": "ipython3",
   "version": "3.9.13"
  },
  "orig_nbformat": 4
 },
 "nbformat": 4,
 "nbformat_minor": 2
}
