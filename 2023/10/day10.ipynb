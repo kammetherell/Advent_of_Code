{
 "cells": [
  {
   "attachments": {},
   "cell_type": "markdown",
   "metadata": {},
   "source": [
    "The pipes are arranged in a two-dimensional grid of tiles:\n",
    "\n",
    "- | is a vertical pipe connecting north and south.\n",
    "- \\- is a horizontal pipe connecting east and west.\n",
    "- L is a 90-degree bend connecting north and east.\n",
    "- J is a 90-degree bend connecting north and west.\n",
    "- 7 is a 90-degree bend connecting south and west.\n",
    "- F is a 90-degree bend connecting south and east.\n",
    "- . is ground; there is no pipe in this tile.\n",
    "- S is the starting position of the animal; there is a pipe on this tile, but your sketch doesn't show what shape the pipe has."
   ]
  },
  {
   "cell_type": "code",
   "execution_count": 5,
   "metadata": {},
   "outputs": [],
   "source": [
    "import aoc_helpers\n",
    "import re\n",
    "\n",
    "actual = aoc_helpers.load_data('actual.txt')\n",
    "for line in range(0,len(actual)):\n",
    "    actual[line] = [i for i in actual[line]]"
   ]
  },
  {
   "attachments": {},
   "cell_type": "markdown",
   "metadata": {},
   "source": [
    "# Tests"
   ]
  },
  {
   "cell_type": "code",
   "execution_count": 9,
   "metadata": {},
   "outputs": [],
   "source": [
    "test_1 = [\n",
    "    ['-','L','|','F','7'],\n",
    "    ['7','S','-','7','|'],\n",
    "    ['L','|','7','|','|'],\n",
    "    ['-','L','-','J','|'],\n",
    "    ['L','|','-','J','F'],\n",
    "]\n",
    "\n",
    "test_2 = [\n",
    "    ['7','-','F','7','-'],\n",
    "    ['.','F','J','|','7'],\n",
    "    ['S','J','L','L','7'],\n",
    "    ['|','F','-','-','J'],\n",
    "    ['L','J','.','L','J'],\n",
    "]"
   ]
  },
  {
   "attachments": {},
   "cell_type": "markdown",
   "metadata": {},
   "source": [
    "# Code"
   ]
  },
  {
   "cell_type": "code",
   "execution_count": 11,
   "metadata": {},
   "outputs": [
    {
     "name": "stdout",
     "output_type": "stream",
     "text": [
      "(1, 1)\n",
      "(2, 0)\n",
      "(42, 25)\n"
     ]
    }
   ],
   "source": [
    "def find_start(input):\n",
    "    found = False\n",
    "    row = 0\n",
    "    while not found:\n",
    "        try:\n",
    "            col = input[row].index('S')\n",
    "            found = True\n",
    "        except:\n",
    "            row+=1\n",
    "\n",
    "    return (row,col)\n",
    "\n",
    "print(find_start(test_1)) #(1,1)\n",
    "print(find_start(test_2)) #(2,0)\n",
    "print(find_start(actual)) #(2,0)"
   ]
  },
  {
   "cell_type": "code",
   "execution_count": 12,
   "metadata": {},
   "outputs": [],
   "source": [
    "#coords = (row,column)\n",
    "\n",
    "conn_map ={\n",
    "    '|': [( 1, 0),(-1, 0)],\n",
    "    '-': [( 0, 1),( 0,-1)],\n",
    "    'L': [( 0, 1),(-1, 0)],\n",
    "    'J': [( 0,-1),(-1, 0)],\n",
    "    '7': [( 0,-1),( 1, 0)],\n",
    "    'F': [( 1, 0),( 0, 1)],\n",
    "}"
   ]
  },
  {
   "cell_type": "code",
   "execution_count": 44,
   "metadata": {},
   "outputs": [],
   "source": [
    "def find_pipe(input):\n",
    "    start_coord = find_start(input)\n",
    "\n",
    "    pipe = [\n",
    "        ('S', start_coord)\n",
    "    ]\n",
    "\n",
    "    # start by traversing cardinal points to find the first \n",
    "    # valid pipe connection\n",
    "    cardinal_points = {\n",
    "        (start_coord[0]-1, start_coord[1]):['|', 'F', '7'], \n",
    "        (start_coord[0]+1, start_coord[1]):['|', 'L', 'J'],\n",
    "        (start_coord[0], start_coord[1]-1):['-', 'L', 'F'],\n",
    "        (start_coord[0], start_coord[1]+1):['-', '7', 'J']\n",
    "    }\n",
    "\n",
    "    for point,symbols in cardinal_points.items():\n",
    "        if input[point[0]][point[1]] in symbols:\n",
    "            #valid connection, so add to pipe, and continue\n",
    "            pipe.append((input[point[0]][point[1]], point))\n",
    "            break\n",
    "\n",
    "    # then loop through pipe until we get back to 'S'\n",
    "    counter = 1\n",
    "    complete = False\n",
    "\n",
    "    while not complete:\n",
    "        last = pipe[counter-1][1]\n",
    "        curr = pipe[counter]\n",
    "        opts = [\n",
    "            (\n",
    "                curr[1][0]+inc[0],\n",
    "                curr[1][1]+inc[1]\n",
    "            )\n",
    "            for inc in conn_map[curr[0]]\n",
    "        ]\n",
    "\n",
    "        nxt = [c for c in opts if c!=last][0]\n",
    "        nxt = (\n",
    "            input[nxt[0]][nxt[1]],\n",
    "            nxt\n",
    "        )\n",
    "\n",
    "        if nxt[0]=='S':\n",
    "            complete=True\n",
    "        else:\n",
    "\n",
    "            pipe.append(nxt)\n",
    "            counter+=1\n",
    "\n",
    "    return pipe"
   ]
  },
  {
   "cell_type": "code",
   "execution_count": 49,
   "metadata": {},
   "outputs": [
    {
     "name": "stdout",
     "output_type": "stream",
     "text": [
      "PART 1:  7173\n"
     ]
    }
   ],
   "source": [
    "pipe = find_pipe(actual)\n",
    "print(\"PART 1: \", int(len(pipe)/2))"
   ]
  },
  {
   "cell_type": "code",
   "execution_count": 56,
   "metadata": {},
   "outputs": [],
   "source": [
    "def get_inside(input, pipe):\n",
    "\n",
    "    max_row = len(input)\n",
    "    max_col = len(input[0])\n",
    "\n",
    "    count_inside = 0\n",
    "\n",
    "    for row, line in enumerate(input):\n",
    "        for col, char in enumerate(line):\n",
    "            \n",
    "            #Skip vertices which are part of our pipe\n",
    "            if (char, (row, col)) in pipe:\n",
    "                continue\n",
    "            \n",
    "            intercept_count = 0\n",
    "            r2, c2 = row, col\n",
    "\n",
    "            #Traverse the map in a diagonal\n",
    "            # We can ignore '7' and 'L' vertices, as our \n",
    "            # diagonal hits the apex of the corner\n",
    "            while r2 < max_row and c2 < max_col:\n",
    "                char2 = input[r2][c2]\n",
    "                #First run came out too high - suspect 'S' is actually a '7' or 'L'\n",
    "                if ((char2, (r2, c2)) in pipe) and \\\n",
    "                    (char2 not in ['7', 'L', 'S']):\n",
    "                    intercept_count+=1\n",
    "\n",
    "                r2+=1\n",
    "                c2+=1\n",
    "            \n",
    "            if intercept_count%2==1:\n",
    "                count_inside+=1\n",
    "\n",
    "    return count_inside\n",
    "            "
   ]
  },
  {
   "cell_type": "code",
   "execution_count": 54,
   "metadata": {},
   "outputs": [
    {
     "name": "stdout",
     "output_type": "stream",
     "text": [
      "392 µs ± 23.4 µs per loop (mean ± std. dev. of 7 runs, 1,000 loops each)\n"
     ]
    }
   ],
   "source": [
    "p2_test = [\n",
    "    '..........',\n",
    "    '.S------7.',\n",
    "    '.|F----7|.',\n",
    "    '.||OOOO||.',\n",
    "    '.||OOOO||.',\n",
    "    '.|L-7F-J|.',\n",
    "    '.|II||II|.',\n",
    "    '.L--JL--J.',\n",
    "    '..........',\n",
    "]\n",
    "\n",
    "for line in range(0,len(p2_test)):\n",
    "    p2_test[line] = [i for i in p2_test[line]]\n",
    "\n",
    "p2_test_pipe = find_pipe(p2_test)\n",
    "\n",
    "%timeit get_inside(p2_test, p2_test_pipe)\n"
   ]
  },
  {
   "cell_type": "code",
   "execution_count": 57,
   "metadata": {},
   "outputs": [
    {
     "data": {
      "text/plain": [
       "291"
      ]
     },
     "execution_count": 57,
     "metadata": {},
     "output_type": "execute_result"
    }
   ],
   "source": [
    "get_inside(actual, pipe)"
   ]
  },
  {
   "cell_type": "code",
   "execution_count": null,
   "metadata": {},
   "outputs": [],
   "source": []
  }
 ],
 "metadata": {
  "kernelspec": {
   "display_name": "Python 3",
   "language": "python",
   "name": "python3"
  },
  "language_info": {
   "codemirror_mode": {
    "name": "ipython",
    "version": 3
   },
   "file_extension": ".py",
   "mimetype": "text/x-python",
   "name": "python",
   "nbconvert_exporter": "python",
   "pygments_lexer": "ipython3",
   "version": "3.9.13"
  },
  "orig_nbformat": 4
 },
 "nbformat": 4,
 "nbformat_minor": 2
}
