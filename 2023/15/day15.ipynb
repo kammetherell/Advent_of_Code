{
 "cells": [
  {
   "cell_type": "code",
   "execution_count": 49,
   "metadata": {},
   "outputs": [
    {
     "data": {
      "text/plain": [
       "['ffkfx-', 'nkg=2']"
      ]
     },
     "execution_count": 49,
     "metadata": {},
     "output_type": "execute_result"
    }
   ],
   "source": [
    "import aoc_helpers\n",
    "year = 2023\n",
    "day = 15\n",
    "actual = aoc_helpers.get_inputs(year,day, False)\n",
    "actual = actual.split(',')\n",
    "\n",
    "actual[:2]"
   ]
  },
  {
   "cell_type": "code",
   "execution_count": 50,
   "metadata": {},
   "outputs": [],
   "source": [
    "class Lens:\n",
    "    def __init__(self, lens_string) -> None:\n",
    "        self.lens_string = lens_string\n",
    "        \n",
    "        if '-' in lens_string:\n",
    "            self.op = '-'\n",
    "        else:\n",
    "             self.op = '='\n",
    "            \n",
    "        self.label, self.focal_length = lens_string.split(self.op)   \n",
    "        \n",
    "        try:\n",
    "            self.focal_length = int(self.focal_length)\n",
    "        except:\n",
    "            pass\n",
    "\n",
    "        self.run_hash()\n",
    "\n",
    "    def __repr__(self) -> str:\n",
    "        return f'Lens {self.label}'\n",
    "\n",
    "    def run_hash(self):\n",
    "        h =h_l= 0\n",
    "        for char in self.lens_string:\n",
    "            h += ord(char)\n",
    "            h *= 17\n",
    "            h = h%256\n",
    "        self.hsh_str = h\n",
    "\n",
    "        for char in self.label:\n",
    "            h_l += ord(char)\n",
    "            h_l *= 17\n",
    "            h_l = h_l%256\n",
    "        self.hsh_label = h_l\n",
    "    "
   ]
  },
  {
   "cell_type": "code",
   "execution_count": 51,
   "metadata": {},
   "outputs": [
    {
     "name": "stdout",
     "output_type": "stream",
     "text": [
      "aocd will not submit that answer again. At 2023-12-15 10:25:14.929761-05:00 you've previously submitted 512283 and the server responded with:\n",
      "\u001b[32mThat's the right answer!  You are one gold star closer to restoring snow operations. [Continue to Part Two]\u001b[0m\n"
     ]
    }
   ],
   "source": [
    "actual = [Lens(s) for s in actual]\n",
    "\n",
    "aoc_helpers.submit(\n",
    "    sum([l.hsh_str for l in actual]),\n",
    "    year,\n",
    "    day,\n",
    "    part='a'\n",
    ")"
   ]
  },
  {
   "cell_type": "code",
   "execution_count": 52,
   "metadata": {},
   "outputs": [],
   "source": [
    "def process_lens(lens, boxes):\n",
    "    try:\n",
    "        box = boxes[lens.hsh_label]\n",
    "    except:\n",
    "        box = []\n",
    "\n",
    "    curr_index = next((i for i, l in enumerate(box) if l.label == lens.label), None)\n",
    "\n",
    "    if lens.op == '-':\n",
    "        if curr_index is not None:\n",
    "            del box[curr_index]\n",
    "\n",
    "    else:\n",
    "        if curr_index is not None:\n",
    "            box[curr_index] = lens\n",
    "        else:\n",
    "            box.append(lens)\n",
    "\n",
    "    boxes[lens.hsh_label] = box\n",
    "    return boxes"
   ]
  },
  {
   "cell_type": "code",
   "execution_count": 53,
   "metadata": {},
   "outputs": [],
   "source": [
    "test = 'rn=1,cm-,qp=3,cm=2,qp-,pc=4,ot=9,ab=5,pc-,pc=6,ot=7'\n",
    "test = test.split(',')\n",
    "test = [Lens(s) for s in test]"
   ]
  },
  {
   "cell_type": "code",
   "execution_count": 54,
   "metadata": {},
   "outputs": [
    {
     "data": {
      "text/plain": [
       "[Lens rn,\n",
       " Lens cm,\n",
       " Lens qp,\n",
       " Lens cm,\n",
       " Lens qp,\n",
       " Lens pc,\n",
       " Lens ot,\n",
       " Lens ab,\n",
       " Lens pc,\n",
       " Lens pc,\n",
       " Lens ot]"
      ]
     },
     "execution_count": 54,
     "metadata": {},
     "output_type": "execute_result"
    }
   ],
   "source": [
    "test"
   ]
  },
  {
   "cell_type": "code",
   "execution_count": 55,
   "metadata": {},
   "outputs": [],
   "source": [
    "boxes = dict()\n",
    "\n",
    "for lens in actual:\n",
    "    boxes = process_lens(lens, boxes)"
   ]
  },
  {
   "cell_type": "code",
   "execution_count": 56,
   "metadata": {},
   "outputs": [
    {
     "data": {
      "text/plain": [
       "215827"
      ]
     },
     "execution_count": 56,
     "metadata": {},
     "output_type": "execute_result"
    }
   ],
   "source": [
    "power = 0\n",
    "\n",
    "for box_id, lenses in boxes.items():\n",
    "    for i in range(len(lenses)):\n",
    "        l_power = (box_id+1) * (i+1) * lenses[i].focal_length\n",
    "        power += l_power\n",
    "\n",
    "power\n"
   ]
  },
  {
   "cell_type": "code",
   "execution_count": 57,
   "metadata": {},
   "outputs": [
    {
     "name": "stdout",
     "output_type": "stream",
     "text": [
      "\u001b[32mThat's the right answer!  You are one gold star closer to restoring snow operations.You have completed Day 15! You can [Shareon\n",
      "  Twitter\n",
      "Mastodon] this victory or [Return to Your Advent Calendar].\u001b[0m\n"
     ]
    }
   ],
   "source": [
    "aoc_helpers.submit(\n",
    "    power,\n",
    "    year,\n",
    "    day,\n",
    "    part='b'\n",
    ")"
   ]
  },
  {
   "cell_type": "code",
   "execution_count": null,
   "metadata": {},
   "outputs": [],
   "source": []
  }
 ],
 "metadata": {
  "kernelspec": {
   "display_name": "Python 3",
   "language": "python",
   "name": "python3"
  },
  "language_info": {
   "codemirror_mode": {
    "name": "ipython",
    "version": 3
   },
   "file_extension": ".py",
   "mimetype": "text/x-python",
   "name": "python",
   "nbconvert_exporter": "python",
   "pygments_lexer": "ipython3",
   "version": "3.9.13"
  }
 },
 "nbformat": 4,
 "nbformat_minor": 2
}
