{
 "cells": [
  {
   "cell_type": "code",
   "execution_count": 1,
   "metadata": {},
   "outputs": [],
   "source": [
    "import aoc_helpers\n",
    "\n",
    "actual = aoc_helpers.load_data('actual.txt')"
   ]
  },
  {
   "cell_type": "code",
   "execution_count": 7,
   "metadata": {},
   "outputs": [],
   "source": [
    "def get_empty(input):\n",
    "    empty_rows = [\n",
    "        idx for idx, row in enumerate(input) if row.count('.')==len(row)\n",
    "    ]\n",
    "\n",
    "    empty_cols = []\n",
    "    for col in range(0,len(input[0])):\n",
    "        col_lst = [row[col] for row in input]\n",
    "        if all(x == '.' for x in col_lst):\n",
    "            empty_cols.append(col)\n",
    "\n",
    "    return empty_rows, empty_cols"
   ]
  },
  {
   "cell_type": "code",
   "execution_count": 75,
   "metadata": {},
   "outputs": [],
   "source": [
    "from itertools import combinations\n",
    "\n",
    "#[(0, 3), (1, 7), (2, 0), (4, 6), (5, 1), (6, 9), (8, 7), (9, 0), (9, 4)]\n",
    "#  1       2       3       4       5       6       7       8       9\n",
    "# Between galaxy 1 and galaxy 7: 15\n",
    "# Between galaxy 3 and galaxy 6: 17\n",
    "# Between galaxy 8 and galaxy 9: 5\n",
    "\n",
    "test_pairs = [\n",
    "    ((5,1),(9,4)), #5-9 dist 9\n",
    "    ((0,3),(8,7)), #dist 15\n",
    "    ((2,0),(6,9)), #dist 17\n",
    "    ((9,0),(9,4))  #dist5\n",
    "]\n",
    "\n",
    "\n",
    "def solve(input, scale_factor, test=False):\n",
    "    empty_rows, empty_cols = get_empty(input)\n",
    "    \n",
    "    galaxies = []\n",
    "    for row, line in enumerate(input):\n",
    "        for col, char in enumerate(line):\n",
    "            if char == '#':\n",
    "                galaxies.append((row, col))\n",
    "    \n",
    "    pairs = combinations(galaxies,2)\n",
    "\n",
    "    tot_dist = 0\n",
    "\n",
    "    for pair in pairs:\n",
    "        row_range = range(pair[0][0],pair[1][0])\n",
    "        if pair[0][0]>pair[1][0]:\n",
    "            row_range = range(pair[1][0],pair[0][0])\n",
    "\n",
    "        col_range = range(pair[0][1],pair[1][1])\n",
    "        if pair[0][1]>pair[1][1]:\n",
    "            col_range = range(pair[1][1],pair[0][1])\n",
    "        count_empty_r = sum([r in row_range for r in empty_rows])\n",
    "        count_empty_c = sum([r in col_range for r in empty_cols])\n",
    "        \n",
    "        dist_r = abs(pair[1][0] - pair[0][0])\n",
    "        dist_c = abs(pair[1][1] - pair[0][1])\n",
    "\n",
    "        dist = dist_r + dist_c + (scale_factor-1)*(count_empty_c+count_empty_r)\n",
    "\n",
    "        if test and (pair in test_pairs):\n",
    "            print(pair, dist_r, dist_c, count_empty_r, count_empty_c, dist)\n",
    "\n",
    "\n",
    "        tot_dist+=dist\n",
    "\n",
    "    return tot_dist"
   ]
  },
  {
   "cell_type": "code",
   "execution_count": 76,
   "metadata": {},
   "outputs": [],
   "source": [
    "test = [\n",
    "    #0123456789\n",
    "    '...#......',\n",
    "    '.......#..',\n",
    "    '#.........',\n",
    "    '..........',\n",
    "    '......#...',\n",
    "    '.#........',\n",
    "    '.........#',\n",
    "    '..........',\n",
    "    '.......#..',\n",
    "    '#...#.....',\n",
    "]"
   ]
  },
  {
   "cell_type": "code",
   "execution_count": 80,
   "metadata": {},
   "outputs": [
    {
     "name": "stdout",
     "output_type": "stream",
     "text": [
      "((0, 3), (8, 7)) 8 4 2 1 15\n",
      "((2, 0), (6, 9)) 4 9 1 3 17\n",
      "((5, 1), (9, 4)) 4 3 1 1 9\n",
      "((9, 0), (9, 4)) 0 4 0 1 5\n"
     ]
    },
    {
     "data": {
      "text/plain": [
       "374"
      ]
     },
     "execution_count": 80,
     "metadata": {},
     "output_type": "execute_result"
    }
   ],
   "source": [
    "solve(test,2,True)"
   ]
  },
  {
   "cell_type": "code",
   "execution_count": 78,
   "metadata": {},
   "outputs": [
    {
     "data": {
      "text/plain": [
       "9536038"
      ]
     },
     "execution_count": 78,
     "metadata": {},
     "output_type": "execute_result"
    }
   ],
   "source": [
    "solve(actual,2, False)"
   ]
  },
  {
   "cell_type": "code",
   "execution_count": 79,
   "metadata": {},
   "outputs": [
    {
     "data": {
      "text/plain": [
       "447744640566"
      ]
     },
     "execution_count": 79,
     "metadata": {},
     "output_type": "execute_result"
    }
   ],
   "source": [
    "solve(actual,1000000,False)"
   ]
  },
  {
   "cell_type": "code",
   "execution_count": null,
   "metadata": {},
   "outputs": [],
   "source": []
  }
 ],
 "metadata": {
  "kernelspec": {
   "display_name": "Python 3",
   "language": "python",
   "name": "python3"
  },
  "language_info": {
   "codemirror_mode": {
    "name": "ipython",
    "version": 3
   },
   "file_extension": ".py",
   "mimetype": "text/x-python",
   "name": "python",
   "nbconvert_exporter": "python",
   "pygments_lexer": "ipython3",
   "version": "3.9.13"
  },
  "orig_nbformat": 4
 },
 "nbformat": 4,
 "nbformat_minor": 2
}
