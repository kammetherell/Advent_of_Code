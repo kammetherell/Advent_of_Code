{
 "cells": [
  {
   "cell_type": "code",
   "execution_count": 3,
   "metadata": {},
   "outputs": [],
   "source": [
    "import aoc_helpers\n",
    "day19 = aoc_helpers.AOC(2023, 19)\n",
    "actual = day19.get_inputs()\n",
    "actual = aoc_helpers.helper.list_of_lists(actual)"
   ]
  },
  {
   "cell_type": "code",
   "execution_count": 4,
   "metadata": {},
   "outputs": [
    {
     "data": {
      "text/plain": [
       "['px{a<2006:qkq,m>2090:A,rfg}',\n",
       " 'pv{a>1716:R,A}',\n",
       " 'lnx{m>1548:A,A}',\n",
       " 'rfg{s<537:gd,x>2440:R,A}',\n",
       " 'qs{s>3448:A,lnx}',\n",
       " 'qkq{x<1416:A,crn}',\n",
       " 'crn{x>2662:A,R}',\n",
       " 'in{s<1351:px,qqz}',\n",
       " 'qqz{s>2770:qs,m<1801:hdj,R}',\n",
       " 'gd{a>3333:R,R}',\n",
       " 'hdj{m>838:A,pv}']"
      ]
     },
     "execution_count": 4,
     "metadata": {},
     "output_type": "execute_result"
    }
   ],
   "source": [
    "example = 'px{a<2006:qkq,m>2090:A,rfg}\\npv{a>1716:R,A}\\nlnx{m>1548:A,A}\\nrfg{s<537:gd,x>2440:R,A}\\nqs{s>3448:A,lnx}\\nqkq{x<1416:A,crn}\\ncrn{x>2662:A,R}\\nin{s<1351:px,qqz}\\nqqz{s>2770:qs,m<1801:hdj,R}\\ngd{a>3333:R,R}\\nhdj{m>838:A,pv}\\n\\n{x=787,m=2655,a=1222,s=2876}\\n{x=1679,m=44,a=2067,s=496}\\n{x=2036,m=264,a=79,s=2244}\\n{x=2461,m=1339,a=466,s=291}\\n{x=2127,m=1623,a=2188,s=1013}'\n",
    "example = aoc_helpers.helper.list_of_lists(example)\n",
    "example[0]"
   ]
  },
  {
   "cell_type": "code",
   "execution_count": 5,
   "metadata": {},
   "outputs": [],
   "source": [
    "import re\n",
    "\n",
    "class Point:\n",
    "    def __init__(self, point_str) -> None:\n",
    "        self.state = 'in'\n",
    "        x, m, a, s = map(int, re.findall(r'\\d+', point_str))\n",
    "\n",
    "        self.score = x + m + a + s\n",
    "\n",
    "        self.vars = {\n",
    "            'x':x,\n",
    "            'm':m,\n",
    "            'a':a,\n",
    "            's':s,\n",
    "        }\n",
    "\n",
    "        pass\n",
    "\n",
    "    def __repr__(self) -> str:\n",
    "        return f'{self.vars}; position \"{self.state}\"'\n",
    "    \n",
    "    def test(self, rule):\n",
    "        # If we're at the end state, update point state and exit\n",
    "        if ':' not in rule :\n",
    "            self.state = rule\n",
    "            return True\n",
    "\n",
    "        tst, outcome = rule.split(':')\n",
    "\n",
    "        if '<' in tst:\n",
    "            var, num = tst.split('<')\n",
    "            if self.vars[var] < int(num):\n",
    "                self.state = outcome\n",
    "                return True\n",
    "            else:\n",
    "                return False\n",
    "        if '>' in tst:\n",
    "            var, num = tst.split('>')\n",
    "            if self.vars[var] > int(num):\n",
    "                self.state = outcome\n",
    "                return True\n",
    "            else:\n",
    "                return False"
   ]
  },
  {
   "cell_type": "code",
   "execution_count": 15,
   "metadata": {},
   "outputs": [],
   "source": [
    "def accept_reject(point, workflows):\n",
    "    while point.state not in 'RA':\n",
    "        w = workflows[point.state]\n",
    "        updated = False\n",
    "        r_idx = 0\n",
    "        while not updated:\n",
    "            updated = point.test(w[r_idx])\n",
    "            r_idx+=1"
   ]
  },
  {
   "cell_type": "code",
   "execution_count": 18,
   "metadata": {},
   "outputs": [
    {
     "data": {
      "text/plain": [
       "446935"
      ]
     },
     "execution_count": 18,
     "metadata": {},
     "output_type": "execute_result"
    }
   ],
   "source": [
    "workflows_raw, points_raw = actual\n",
    "\n",
    "workflows = dict()\n",
    "\n",
    "for w in workflows_raw:\n",
    "    state, rule = w[:-1].split('{')\n",
    "    workflows[state] = rule.split(',')\n",
    "\n",
    "points = []\n",
    "for point in points_raw:\n",
    "    points.append(Point(point))\n",
    "\n",
    "for p in points:\n",
    "    accept_reject(p, workflows)\n",
    "\n",
    "score = sum([p.score for p in points if p.state=='A'])\n",
    "\n",
    "score"
   ]
  },
  {
   "cell_type": "code",
   "execution_count": 19,
   "metadata": {},
   "outputs": [
    {
     "name": "stdout",
     "output_type": "stream",
     "text": [
      "\u001b[32mThat's the right answer!  You are one gold star closer to restoring snow operations. [Continue to Part Two]\u001b[0m\n"
     ]
    }
   ],
   "source": [
    "day19.submit_a(score)"
   ]
  },
  {
   "cell_type": "markdown",
   "metadata": {},
   "source": [
    "# Part 2"
   ]
  },
  {
   "cell_type": "code",
   "execution_count": null,
   "metadata": {},
   "outputs": [],
   "source": []
  }
 ],
 "metadata": {
  "kernelspec": {
   "display_name": "Python 3",
   "language": "python",
   "name": "python3"
  },
  "language_info": {
   "codemirror_mode": {
    "name": "ipython",
    "version": 3
   },
   "file_extension": ".py",
   "mimetype": "text/x-python",
   "name": "python",
   "nbconvert_exporter": "python",
   "pygments_lexer": "ipython3",
   "version": "3.9.13"
  }
 },
 "nbformat": 4,
 "nbformat_minor": 2
}
