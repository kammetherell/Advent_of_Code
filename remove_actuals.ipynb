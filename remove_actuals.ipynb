{
 "cells": [
  {
   "cell_type": "code",
   "execution_count": 1,
   "metadata": {},
   "outputs": [],
   "source": [
    "import os"
   ]
  },
  {
   "cell_type": "code",
   "execution_count": 7,
   "metadata": {},
   "outputs": [],
   "source": [
    "dirs = [f'./{dir}' for dir in os.listdir() if '.' not in dir]\n",
    "dirs.remove('./aoc_helpers')\n",
    "dirs.remove('./2019')"
   ]
  },
  {
   "cell_type": "code",
   "execution_count": 8,
   "metadata": {},
   "outputs": [],
   "source": [
    "\n",
    "while len(dirs)>0:\n",
    "    top = dirs.pop(0)\n",
    "    sub_dirs = os.listdir(top)\n",
    "    for dir in sub_dirs:\n",
    "        if '.' not in dir:\n",
    "            dirs.append(f'{top}/{dir}')\n",
    "        elif dir in ['actual.txt', 'input.txt']:\n",
    "            os.remove(f'{top}/{dir}')\n"
   ]
  },
  {
   "cell_type": "code",
   "execution_count": null,
   "metadata": {},
   "outputs": [],
   "source": []
  }
 ],
 "metadata": {
  "kernelspec": {
   "display_name": "Python 3",
   "language": "python",
   "name": "python3"
  },
  "language_info": {
   "codemirror_mode": {
    "name": "ipython",
    "version": 3
   },
   "file_extension": ".py",
   "mimetype": "text/x-python",
   "name": "python",
   "nbconvert_exporter": "python",
   "pygments_lexer": "ipython3",
   "version": "3.9.13"
  },
  "orig_nbformat": 4
 },
 "nbformat": 4,
 "nbformat_minor": 2
}
